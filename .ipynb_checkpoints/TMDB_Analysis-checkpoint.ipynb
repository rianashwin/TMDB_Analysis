{
 "cells": [
  {
   "cell_type": "markdown",
   "metadata": {},
   "source": [
    "# Analysis of The Movies Database"
   ]
  },
  {
   "cell_type": "markdown",
   "metadata": {},
   "source": [
    "## Import data and packages"
   ]
  },
  {
   "cell_type": "code",
   "execution_count": 2,
   "metadata": {},
   "outputs": [],
   "source": [
    "import pandas as pd\n",
    "import os\n",
    "import matplotlib.pyplot as plt\n",
    "import numpy as np\n",
    "import seaborn as sns\n",
    "import plotly.express as px\n",
    "import re\n",
    "from sklearn.feature_extraction.text import CountVectorizer\n",
    "from wordcloud import WordCloud\n",
    "\n",
    "%matplotlib inline\n",
    "pd.set_option('display.max_columns', None) #set full rows"
   ]
  },
  {
   "cell_type": "code",
   "execution_count": 14,
   "metadata": {
    "scrolled": true
   },
   "outputs": [
    {
     "name": "stderr",
     "output_type": "stream",
     "text": [
      "D:\\PYTHON_ENVIRONMENTS\\AIRBNB_V2\\envs_airbnb\\lib\\site-packages\\IPython\\core\\interactiveshell.py:3062: DtypeWarning:\n",
      "\n",
      "Columns (10) have mixed types.Specify dtype option on import or set low_memory=False.\n",
      "\n"
     ]
    },
    {
     "name": "stdout",
     "output_type": "stream",
     "text": [
      "83.471315\n",
      "203.294768\n",
      "832.777376\n",
      "0.206704\n",
      "0.201424\n"
     ]
    }
   ],
   "source": [
    "df_movies_metadata = pd.read_csv(r'./DATA/45000_plus_movies/movies_metadata.csv')\n",
    "df_credits = pd.read_csv(r'./DATA/45000_plus_movies/credits.csv')\n",
    "df_ratings = pd.read_csv(r'./DATA/45000_plus_movies/ratings.csv')\n",
    "df_cpi = pd.read_csv(r'./DATA/cpi/API_FP.CPI.TOTL.ZG_DS2_en_csv_v2_988671.csv',skiprows=4)\n",
    "df_gdp = pd.read_csv(r'./DATA/gdp/API_NY.GDP.MKTP.CD_DS2_en_csv_v2_988718.csv',skiprows=4)\n",
    "\n",
    "print(df_movies_metadata.memory_usage(deep=True).sum()/1000000)\n",
    "print(df_credits.memory_usage(deep=True).sum()/1000000)\n",
    "print(df_ratings.memory_usage(deep=True).sum()/1000000)\n",
    "print(df_cpi.memory_usage(deep=True).sum()/1000000)\n",
    "print(df_gdp.memory_usage(deep=True).sum()/1000000)"
   ]
  },
  {
   "cell_type": "markdown",
   "metadata": {},
   "source": [
    "## Prepare inflation by year"
   ]
  },
  {
   "cell_type": "code",
   "execution_count": 45,
   "metadata": {
    "scrolled": true
   },
   "outputs": [
    {
     "name": "stderr",
     "output_type": "stream",
     "text": [
      "<ipython-input-45-a5b316ab2452>:12: RuntimeWarning:\n",
      "\n",
      "invalid value encountered in double_scalars\n",
      "\n"
     ]
    },
    {
     "data": {
      "text/plain": [
       "{'1960_weighted_cpi': 0.8332556738934528,\n",
       " '1961_weighted_cpi': 0.9315936763270694,\n",
       " '1962_weighted_cpi': 1.5221661199137895,\n",
       " '1963_weighted_cpi': 1.3024874980853909,\n",
       " '1964_weighted_cpi': 1.521678146139268,\n",
       " '1965_weighted_cpi': 1.7594154026790947,\n",
       " '1966_weighted_cpi': 1.9069954589430467,\n",
       " '1967_weighted_cpi': 1.7381827144201405,\n",
       " '1968_weighted_cpi': 1.9554597917338292,\n",
       " '1969_weighted_cpi': 1.8532967294159093,\n",
       " '1970_weighted_cpi': 2.520879990730323,\n",
       " '1971_weighted_cpi': 2.8091012769128882,\n",
       " '1972_weighted_cpi': 3.034524046010322,\n",
       " '1973_weighted_cpi': 4.801280725576881,\n",
       " '1974_weighted_cpi': 7.970002159173341,\n",
       " '1975_weighted_cpi': 6.413744092237752,\n",
       " '1976_weighted_cpi': 4.948858163311302,\n",
       " '1977_weighted_cpi': 6.6278603656939,\n",
       " '1978_weighted_cpi': 5.590222715851748,\n",
       " '1979_weighted_cpi': 6.327326932073842,\n",
       " '1980_weighted_cpi': 8.595804408250158,\n",
       " '1981_weighted_cpi': 11.35285057120662,\n",
       " '1982_weighted_cpi': 9.082242627755974,\n",
       " '1983_weighted_cpi': 7.966561177098277,\n",
       " '1984_weighted_cpi': 7.512602226504188,\n",
       " '1985_weighted_cpi': 7.253153888996671,\n",
       " '1986_weighted_cpi': 5.093202235981138,\n",
       " '1987_weighted_cpi': 5.589758685403688,\n",
       " '1988_weighted_cpi': 7.274927835364689,\n",
       " '1989_weighted_cpi': 10.791431535700049,\n",
       " '1990_weighted_cpi': 16.60945013415328,\n",
       " '1991_weighted_cpi': 9.03128625672265,\n",
       " '1992_weighted_cpi': 8.278112945998721,\n",
       " '1993_weighted_cpi': 14.658031014224326,\n",
       " '1994_weighted_cpi': 17.283880216096705,\n",
       " '1995_weighted_cpi': 7.913338389603644,\n",
       " '1996_weighted_cpi': 5.671347203881047,\n",
       " '1997_weighted_cpi': 4.290656981145135,\n",
       " '1998_weighted_cpi': 3.9384303149917916,\n",
       " '1999_weighted_cpi': 2.9457362623746715,\n",
       " '2000_weighted_cpi': 3.451652112612929,\n",
       " '2001_weighted_cpi': 3.564614366938737,\n",
       " '2002_weighted_cpi': 2.8027782174606735,\n",
       " '2003_weighted_cpi': 2.8548536066168473,\n",
       " '2004_weighted_cpi': 2.9965584104470455,\n",
       " '2005_weighted_cpi': 3.504641685788251,\n",
       " '2006_weighted_cpi': 3.6796919214082853,\n",
       " '2007_weighted_cpi': 3.95771452045075,\n",
       " '2008_weighted_cpi': 6.933931523362007,\n",
       " '2009_weighted_cpi': 2.23690255356459,\n",
       " '2010_weighted_cpi': 3.0126712194841065,\n",
       " '2011_weighted_cpi': 4.560498634242049,\n",
       " '2012_weighted_cpi': 3.4992578648191497,\n",
       " '2013_weighted_cpi': 2.7241793275010955,\n",
       " '2014_weighted_cpi': 2.2913996544318085,\n",
       " '2015_weighted_cpi': 1.537757140819677,\n",
       " '2016_weighted_cpi': 1.5841392580951679,\n",
       " '2017_weighted_cpi': 2.4354446874799316,\n",
       " '2018_weighted_cpi': 2.4825673055672937,\n",
       " '2019_weighted_cpi': nan}"
      ]
     },
     "execution_count": 45,
     "metadata": {},
     "output_type": "execute_result"
    }
   ],
   "source": [
    "temp_list = [x for x in df_cpi.columns.tolist() if len(x)<5]\n",
    "\n",
    "df_cpi_gdp = pd.merge(df_cpi, df_gdp, left_on='Country Name',right_on='Country Name')\n",
    "\n",
    "for this_year in temp_list:\n",
    "    df_cpi_gdp[\"{}_weighted_cpi\".format(this_year)] = df_cpi_gdp[\"{}_x\".format(this_year)] * df_cpi_gdp[\"{}_y\".format(this_year)]\n",
    "    \n",
    "weighted_cols = [x for x in df_cpi_gdp.columns.tolist() if x.endswith(\"_weighted_cpi\")]    \n",
    "\n",
    "dicts_cpi = {}\n",
    "for this_gdp_col, this_wave_col in zip(temp_list,weighted_cols):\n",
    "    dicts_cpi[this_wave_col] = df_cpi_gdp[this_wave_col].sum() / df_cpi_gdp[\"{}_y\".format(this_gdp_col)].sum()\n",
    "    \n",
    "dicts_cpi    "
   ]
  },
  {
   "cell_type": "code",
   "execution_count": null,
   "metadata": {},
   "outputs": [],
   "source": []
  }
 ],
 "metadata": {
  "kernelspec": {
   "display_name": "Python 3",
   "language": "python",
   "name": "python3"
  },
  "language_info": {
   "codemirror_mode": {
    "name": "ipython",
    "version": 3
   },
   "file_extension": ".py",
   "mimetype": "text/x-python",
   "name": "python",
   "nbconvert_exporter": "python",
   "pygments_lexer": "ipython3",
   "version": "3.8.2"
  }
 },
 "nbformat": 4,
 "nbformat_minor": 2
}
